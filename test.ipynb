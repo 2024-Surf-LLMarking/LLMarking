{
 "cells": [
  {
   "cell_type": "code",
   "execution_count": 1,
   "id": "9cff51f5-2a56-48c9-ac18-8719fcd48b6f",
   "metadata": {},
   "outputs": [],
   "source": [
    "from transformers import AutoTokenizer, GenerationConfig"
   ]
  },
  {
   "cell_type": "code",
   "execution_count": 9,
   "id": "ac8087e7-d3ba-481f-9553-fd8966f9a91f",
   "metadata": {},
   "outputs": [],
   "source": [
    "__all__ = [\"Qwen/Qwen1.5-14B-Chat-GPTQ-Int4\", \"Qwen/Qwen1.5-32B-Chat-GPTQ-Int4\", \"internlm/internlm2-chat-7b\", \"01-ai/Yi-1.5-9B-Chat\", \"openbmb/MiniCPM-2B-dpo-bf16-llama-format\"]"
   ]
  },
  {
   "cell_type": "code",
   "execution_count": 15,
   "id": "4dd1f375-f52f-4cec-a972-023293d0cb52",
   "metadata": {},
   "outputs": [
    {
     "data": {
      "text/plain": [
       "['Qwen/Qwen1.5-14B-Chat-GPTQ-Int4', 'Qwen/Qwen1.5-32B-Chat-GPTQ-Int4']"
      ]
     },
     "execution_count": 15,
     "metadata": {},
     "output_type": "execute_result"
    }
   ],
   "source": [
    "__all__[:2]"
   ]
  },
  {
   "cell_type": "code",
   "execution_count": 9,
   "id": "7cbd17a6-7b6d-4d02-9cad-b22ad82b4957",
   "metadata": {},
   "outputs": [],
   "source": [
    "qwen = __all__[0]"
   ]
  },
  {
   "cell_type": "code",
   "execution_count": 10,
   "id": "cdad5849-55e9-4f26-b2fe-bc7c1dacb1a7",
   "metadata": {},
   "outputs": [],
   "source": [
    "internlm = __all__[1]"
   ]
  },
  {
   "cell_type": "code",
   "execution_count": 11,
   "id": "f57b839a-5781-4d2e-9a7e-961bb21030f4",
   "metadata": {},
   "outputs": [
    {
     "name": "stderr",
     "output_type": "stream",
     "text": [
      "Special tokens have been added in the vocabulary, make sure the associated word embeddings are fine-tuned or trained.\n"
     ]
    }
   ],
   "source": [
    "internlm_tokenizer = AutoTokenizer.from_pretrained(internlm, trust_remote_code=True)"
   ]
  },
  {
   "cell_type": "code",
   "execution_count": 12,
   "id": "6d022e33-17c9-48af-a6ee-ef0c8e5cd46e",
   "metadata": {},
   "outputs": [],
   "source": [
    "internlm_generation_config = GenerationConfig.from_pretrained(internlm, trust_remote_code=True)"
   ]
  },
  {
   "cell_type": "code",
   "execution_count": 13,
   "id": "618126a4-f304-4178-a38c-ab11cd35599a",
   "metadata": {},
   "outputs": [
    {
     "data": {
      "text/plain": [
       "Qwen2TokenizerFast(name_or_path='Qwen/Qwen1.5-32B-Chat-GPTQ-Int4', vocab_size=151643, model_max_length=32768, is_fast=True, padding_side='right', truncation_side='right', special_tokens={'eos_token': '<|im_end|>', 'pad_token': '<|endoftext|>', 'additional_special_tokens': ['<|im_start|>', '<|im_end|>']}, clean_up_tokenization_spaces=False),  added_tokens_decoder={\n",
       "\t151643: AddedToken(\"<|endoftext|>\", rstrip=False, lstrip=False, single_word=False, normalized=False, special=True),\n",
       "\t151644: AddedToken(\"<|im_start|>\", rstrip=False, lstrip=False, single_word=False, normalized=False, special=True),\n",
       "\t151645: AddedToken(\"<|im_end|>\", rstrip=False, lstrip=False, single_word=False, normalized=False, special=True),\n",
       "}"
      ]
     },
     "execution_count": 13,
     "metadata": {},
     "output_type": "execute_result"
    }
   ],
   "source": [
    "internlm_tokenizer"
   ]
  },
  {
   "cell_type": "code",
   "execution_count": 14,
   "id": "c23ca340-83ac-46b9-984b-484adf3bc17b",
   "metadata": {},
   "outputs": [
    {
     "data": {
      "text/plain": [
       "GenerationConfig {\n",
       "  \"bos_token_id\": 151643,\n",
       "  \"do_sample\": true,\n",
       "  \"eos_token_id\": [\n",
       "    151645,\n",
       "    151643\n",
       "  ],\n",
       "  \"repetition_penalty\": 1.05,\n",
       "  \"temperature\": 0.7,\n",
       "  \"top_k\": 20,\n",
       "  \"top_p\": 0.8,\n",
       "  \"trust_remote_code\": true\n",
       "}"
      ]
     },
     "execution_count": 14,
     "metadata": {},
     "output_type": "execute_result"
    }
   ],
   "source": [
    "internlm_generation_config"
   ]
  },
  {
   "cell_type": "code",
   "execution_count": 16,
   "id": "4676f4a8-a703-479e-b9ed-7d8269425afd",
   "metadata": {},
   "outputs": [
    {
     "name": "stderr",
     "output_type": "stream",
     "text": [
      "Special tokens have been added in the vocabulary, make sure the associated word embeddings are fine-tuned or trained.\n"
     ]
    }
   ],
   "source": [
    "qwen_tokenizer = AutoTokenizer.from_pretrained(qwen, trust_remote_code=True)"
   ]
  },
  {
   "cell_type": "code",
   "execution_count": 17,
   "id": "154b6c74-f4ef-4692-9a71-b5313a6794cb",
   "metadata": {},
   "outputs": [
    {
     "data": {
      "text/plain": [
       "Qwen2TokenizerFast(name_or_path='Qwen/Qwen1.5-14B-Chat-GPTQ-Int4', vocab_size=151643, model_max_length=32768, is_fast=True, padding_side='right', truncation_side='right', special_tokens={'eos_token': '<|im_end|>', 'pad_token': '<|endoftext|>', 'additional_special_tokens': ['<|im_start|>', '<|im_end|>']}, clean_up_tokenization_spaces=False),  added_tokens_decoder={\n",
       "\t151643: AddedToken(\"<|endoftext|>\", rstrip=False, lstrip=False, single_word=False, normalized=False, special=True),\n",
       "\t151644: AddedToken(\"<|im_start|>\", rstrip=False, lstrip=False, single_word=False, normalized=False, special=True),\n",
       "\t151645: AddedToken(\"<|im_end|>\", rstrip=False, lstrip=False, single_word=False, normalized=False, special=True),\n",
       "}"
      ]
     },
     "execution_count": 17,
     "metadata": {},
     "output_type": "execute_result"
    }
   ],
   "source": [
    "qwen_tokenizer"
   ]
  },
  {
   "cell_type": "code",
   "execution_count": 18,
   "id": "10d16093-50ea-4d58-90ac-1d482bdd9dcf",
   "metadata": {},
   "outputs": [],
   "source": [
    "qwen_generation_config = GenerationConfig.from_pretrained(qwen, trust_remote_code=True)"
   ]
  },
  {
   "cell_type": "code",
   "execution_count": 19,
   "id": "7d169343-015d-48be-81b4-bdf0d0d1fda4",
   "metadata": {},
   "outputs": [
    {
     "data": {
      "text/plain": [
       "GenerationConfig {\n",
       "  \"bos_token_id\": 151643,\n",
       "  \"do_sample\": true,\n",
       "  \"eos_token_id\": [\n",
       "    151645,\n",
       "    151643\n",
       "  ],\n",
       "  \"max_window_size\": 11000,\n",
       "  \"pad_token_id\": 151643,\n",
       "  \"repetition_penalty\": 1.05,\n",
       "  \"temperature\": 0.7,\n",
       "  \"top_k\": 20,\n",
       "  \"top_p\": 0.8,\n",
       "  \"trust_remote_code\": true\n",
       "}"
      ]
     },
     "execution_count": 19,
     "metadata": {},
     "output_type": "execute_result"
    }
   ],
   "source": [
    "qwen_generation_config"
   ]
  },
  {
   "cell_type": "code",
   "execution_count": null,
   "id": "724f7597-01fc-4358-9562-ef18a7d25800",
   "metadata": {},
   "outputs": [],
   "source": []
  }
 ],
 "metadata": {
  "kernelspec": {
   "display_name": "Python 3 (ipykernel)",
   "language": "python",
   "name": "python3"
  },
  "language_info": {
   "codemirror_mode": {
    "name": "ipython",
    "version": 3
   },
   "file_extension": ".py",
   "mimetype": "text/x-python",
   "name": "python",
   "nbconvert_exporter": "python",
   "pygments_lexer": "ipython3",
   "version": "3.10.14"
  }
 },
 "nbformat": 4,
 "nbformat_minor": 5
}
