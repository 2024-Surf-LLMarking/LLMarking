{
 "cells": [
  {
   "cell_type": "code",
   "execution_count": 1,
   "id": "9cff51f5-2a56-48c9-ac18-8719fcd48b6f",
   "metadata": {},
   "outputs": [],
   "source": [
    "from transformers import AutoTokenizer, GenerationConfig"
   ]
  },
  {
   "cell_type": "code",
   "execution_count": 2,
   "id": "d79414f0",
   "metadata": {},
   "outputs": [],
   "source": [
    "import numpy as np"
   ]
  },
  {
   "cell_type": "code",
   "execution_count": 3,
   "id": "ac8087e7-d3ba-481f-9553-fd8966f9a91f",
   "metadata": {},
   "outputs": [],
   "source": [
    "__all__ = [\"Qwen/Qwen1.5-14B-Chat-GPTQ-Int4\", \"Qwen/Qwen1.5-32B-Chat-GPTQ-Int4\", \"internlm/internlm2-chat-7b\", \"01-ai/Yi-1.5-9B-Chat\", \"modelscope/Yi-1.5-34B-Chat-AWQ\"]"
   ]
  },
  {
   "cell_type": "code",
   "execution_count": 4,
   "id": "cdad5849-55e9-4f26-b2fe-bc7c1dacb1a7",
   "metadata": {},
   "outputs": [],
   "source": [
    "internlm = __all__[4]"
   ]
  },
  {
   "cell_type": "code",
   "execution_count": 5,
   "id": "f57b839a-5781-4d2e-9a7e-961bb21030f4",
   "metadata": {},
   "outputs": [
    {
     "data": {
      "application/vnd.jupyter.widget-view+json": {
       "model_id": "df864a87da40424680291cf41f0aee4d",
       "version_major": 2,
       "version_minor": 0
      },
      "text/plain": [
       "tokenizer_config.json:   0%|          | 0.00/1.67k [00:00<?, ?B/s]"
      ]
     },
     "metadata": {},
     "output_type": "display_data"
    },
    {
     "data": {
      "application/vnd.jupyter.widget-view+json": {
       "model_id": "a57ce05abc35416d8072d2131232360d",
       "version_major": 2,
       "version_minor": 0
      },
      "text/plain": [
       "tokenizer.model:   0%|          | 0.00/1.03M [00:00<?, ?B/s]"
      ]
     },
     "metadata": {},
     "output_type": "display_data"
    },
    {
     "data": {
      "application/vnd.jupyter.widget-view+json": {
       "model_id": "1b407f8247ec4813b5175f1a7da3bbac",
       "version_major": 2,
       "version_minor": 0
      },
      "text/plain": [
       "tokenizer.json:   0%|          | 0.00/3.56M [00:00<?, ?B/s]"
      ]
     },
     "metadata": {},
     "output_type": "display_data"
    },
    {
     "data": {
      "application/vnd.jupyter.widget-view+json": {
       "model_id": "ce92611f833a4c87ace7ab46577b2858",
       "version_major": 2,
       "version_minor": 0
      },
      "text/plain": [
       "special_tokens_map.json:   0%|          | 0.00/567 [00:00<?, ?B/s]"
      ]
     },
     "metadata": {},
     "output_type": "display_data"
    }
   ],
   "source": [
    "internlm_tokenizer = AutoTokenizer.from_pretrained(internlm, trust_remote_code=True)"
   ]
  },
  {
   "cell_type": "code",
   "execution_count": 6,
   "id": "6d022e33-17c9-48af-a6ee-ef0c8e5cd46e",
   "metadata": {},
   "outputs": [
    {
     "data": {
      "application/vnd.jupyter.widget-view+json": {
       "model_id": "28e76b2308ee44e7b40011e6ef26b5fd",
       "version_major": 2,
       "version_minor": 0
      },
      "text/plain": [
       "generation_config.json:   0%|          | 0.00/132 [00:00<?, ?B/s]"
      ]
     },
     "metadata": {},
     "output_type": "display_data"
    }
   ],
   "source": [
    "internlm_generation_config = GenerationConfig.from_pretrained(internlm, trust_remote_code=True)"
   ]
  },
  {
   "cell_type": "code",
   "execution_count": 7,
   "id": "618126a4-f304-4178-a38c-ab11cd35599a",
   "metadata": {},
   "outputs": [
    {
     "data": {
      "text/plain": [
       "LlamaTokenizerFast(name_or_path='modelscope/Yi-1.5-34B-Chat-AWQ', vocab_size=64000, model_max_length=4096, is_fast=True, padding_side='right', truncation_side='right', special_tokens={'bos_token': '<|startoftext|>', 'eos_token': '<|im_end|>', 'unk_token': '<unk>', 'pad_token': '<unk>'}, clean_up_tokenization_spaces=False),  added_tokens_decoder={\n",
       "\t0: AddedToken(\"<unk>\", rstrip=False, lstrip=False, single_word=False, normalized=True, special=True),\n",
       "\t1: AddedToken(\"<|startoftext|>\", rstrip=False, lstrip=False, single_word=False, normalized=True, special=True),\n",
       "\t2: AddedToken(\"<|endoftext|>\", rstrip=False, lstrip=False, single_word=False, normalized=True, special=True),\n",
       "\t7: AddedToken(\"<|im_end|>\", rstrip=False, lstrip=False, single_word=False, normalized=False, special=True),\n",
       "}"
      ]
     },
     "execution_count": 7,
     "metadata": {},
     "output_type": "execute_result"
    }
   ],
   "source": [
    "internlm_tokenizer"
   ]
  },
  {
   "cell_type": "code",
   "execution_count": 8,
   "id": "c23ca340-83ac-46b9-984b-484adf3bc17b",
   "metadata": {},
   "outputs": [
    {
     "data": {
      "text/plain": [
       "GenerationConfig {\n",
       "  \"bos_token_id\": 1,\n",
       "  \"eos_token_id\": 2,\n",
       "  \"pad_token_id\": 0\n",
       "}"
      ]
     },
     "execution_count": 8,
     "metadata": {},
     "output_type": "execute_result"
    }
   ],
   "source": [
    "internlm_generation_config"
   ]
  },
  {
   "cell_type": "code",
   "execution_count": 9,
   "id": "724f7597-01fc-4358-9562-ef18a7d25800",
   "metadata": {},
   "outputs": [],
   "source": [
    "from prompt_utils import _build_prompt, _build_prompt_self"
   ]
  },
  {
   "cell_type": "code",
   "execution_count": 10,
   "id": "70a09b2e",
   "metadata": {},
   "outputs": [],
   "source": [
    "internlm_tokenizer.im_start_id = 151644\n",
    "internlm_tokenizer.im_end_id = 151645"
   ]
  },
  {
   "cell_type": "code",
   "execution_count": 10,
   "id": "47c6c77d",
   "metadata": {},
   "outputs": [],
   "source": [
    "internlm_generation_config.max_window_size = 11000"
   ]
  },
  {
   "cell_type": "code",
   "execution_count": 11,
   "id": "617a2cb6",
   "metadata": {},
   "outputs": [],
   "source": [
    "history = [(\"Hello, how are you?\", \"Great! How can I help you today?\"), (\"Nothing.\", \"Okay, let me know once you have some problems!\")]"
   ]
  },
  {
   "cell_type": "code",
   "execution_count": 14,
   "id": "69f25e44",
   "metadata": {},
   "outputs": [],
   "source": [
    "res1 = _build_prompt(internlm_generation_config, internlm_tokenizer, \"Who are you?\", history=history, system=\"You are a helpful assistant.\")[1]"
   ]
  },
  {
   "cell_type": "code",
   "execution_count": 12,
   "id": "85ee6a3f",
   "metadata": {},
   "outputs": [],
   "source": [
    "res2 = _build_prompt_self(internlm_generation_config, internlm_tokenizer, \"Who are you?\", history=history, system=\"You are a helpful assistant.\")"
   ]
  },
  {
   "cell_type": "code",
   "execution_count": 15,
   "id": "8c3aab32",
   "metadata": {},
   "outputs": [
    {
     "data": {
      "text/plain": [
       "'<|im_start|>system\\nYou are a helpful assistant.<|im_end|>\\n<|im_start|>user\\nHello, how are you?<|im_end|>\\n<|im_start|>assistant\\nGreat! How can I help you today?<|im_end|>\\n<|im_start|>user\\nNothing.<|im_end|>\\n<|im_start|>assistant\\nOkay, let me know once you have some problems!<|im_end|>\\n<|im_start|>user\\nWho are you?<|im_end|>\\n<|im_start|>assistant\\n'"
      ]
     },
     "execution_count": 15,
     "metadata": {},
     "output_type": "execute_result"
    }
   ],
   "source": [
    "internlm_tokenizer.decode(res1)"
   ]
  },
  {
   "cell_type": "code",
   "execution_count": 13,
   "id": "5ea1d23f",
   "metadata": {},
   "outputs": [
    {
     "data": {
      "text/plain": [
       "'You are a helpful assistant.<|im_start|>user\\nHello, how are you?<|im_end|> \\n<|im_start|>assistant\\nGreat! How can I help you today?<|im_end|> \\n<|im_start|>user\\nNothing.<|im_end|> \\n<|im_start|>assistant\\nOkay, let me know once you have some problems!<|im_end|> \\n<|im_start|>user\\nWho are you?<|im_end|> \\n<|im_start|>assistant\\n'"
      ]
     },
     "execution_count": 13,
     "metadata": {},
     "output_type": "execute_result"
    }
   ],
   "source": [
    "internlm_tokenizer.decode(res2)"
   ]
  },
  {
   "cell_type": "code",
   "execution_count": 16,
   "id": "874758f6",
   "metadata": {},
   "outputs": [
    {
     "data": {
      "text/plain": [
       "array([ True,  True,  True,  True,  True,  True,  True,  True,  True,\n",
       "        True,  True,  True,  True,  True,  True,  True,  True,  True,\n",
       "        True,  True,  True,  True,  True,  True,  True,  True,  True,\n",
       "        True,  True,  True,  True,  True,  True,  True,  True,  True,\n",
       "        True,  True,  True,  True,  True,  True,  True,  True,  True,\n",
       "        True,  True,  True,  True,  True,  True,  True,  True,  True,\n",
       "        True,  True,  True,  True,  True,  True,  True,  True,  True,\n",
       "        True,  True,  True,  True,  True,  True,  True,  True])"
      ]
     },
     "execution_count": 16,
     "metadata": {},
     "output_type": "execute_result"
    }
   ],
   "source": [
    "np.equal(res1, res2)"
   ]
  }
 ],
 "metadata": {
  "kernelspec": {
   "display_name": "Python 3 (ipykernel)",
   "language": "python",
   "name": "python3"
  },
  "language_info": {
   "codemirror_mode": {
    "name": "ipython",
    "version": 3
   },
   "file_extension": ".py",
   "mimetype": "text/x-python",
   "name": "python",
   "nbconvert_exporter": "python",
   "pygments_lexer": "ipython3",
   "version": "3.8.19"
  }
 },
 "nbformat": 4,
 "nbformat_minor": 5
}
