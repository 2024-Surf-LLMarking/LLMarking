{
 "cells": [
  {
   "cell_type": "code",
   "execution_count": 1,
   "id": "9cff51f5-2a56-48c9-ac18-8719fcd48b6f",
   "metadata": {},
   "outputs": [],
   "source": [
    "from transformers import AutoTokenizer, GenerationConfig"
   ]
  },
  {
   "cell_type": "code",
   "execution_count": 2,
   "id": "d79414f0",
   "metadata": {},
   "outputs": [],
   "source": [
    "import numpy as np"
   ]
  },
  {
   "cell_type": "code",
   "execution_count": 3,
   "id": "ac8087e7-d3ba-481f-9553-fd8966f9a91f",
   "metadata": {},
   "outputs": [],
   "source": [
    "__all__ = [\"Qwen/Qwen1.5-14B-Chat-GPTQ-Int4\", \"Qwen/Qwen1.5-32B-Chat-GPTQ-Int4\", \"internlm/internlm2-chat-7b\", \"01-ai/Yi-1.5-9B-Chat\", \"modelscope/Yi-1.5-34B-Chat-AWQ\"]"
   ]
  },
  {
   "cell_type": "code",
   "execution_count": 4,
   "id": "cdad5849-55e9-4f26-b2fe-bc7c1dacb1a7",
   "metadata": {},
   "outputs": [],
   "source": [
    "internlm = __all__[0]"
   ]
  },
  {
   "cell_type": "code",
   "execution_count": 5,
   "id": "f57b839a-5781-4d2e-9a7e-961bb21030f4",
   "metadata": {},
   "outputs": [
    {
     "name": "stderr",
     "output_type": "stream",
     "text": [
      "Special tokens have been added in the vocabulary, make sure the associated word embeddings are fine-tuned or trained.\n"
     ]
    }
   ],
   "source": [
    "internlm_tokenizer = AutoTokenizer.from_pretrained(internlm, trust_remote_code=True)"
   ]
  },
  {
   "cell_type": "code",
   "execution_count": 6,
   "id": "6d022e33-17c9-48af-a6ee-ef0c8e5cd46e",
   "metadata": {},
   "outputs": [],
   "source": [
    "internlm_generation_config = GenerationConfig.from_pretrained(internlm, trust_remote_code=True)"
   ]
  },
  {
   "cell_type": "code",
   "execution_count": 7,
   "id": "618126a4-f304-4178-a38c-ab11cd35599a",
   "metadata": {},
   "outputs": [
    {
     "data": {
      "text/plain": [
       "Qwen2TokenizerFast(name_or_path='Qwen/Qwen1.5-14B-Chat-GPTQ-Int4', vocab_size=151643, model_max_length=32768, is_fast=True, padding_side='right', truncation_side='right', special_tokens={'eos_token': '<|im_end|>', 'pad_token': '<|endoftext|>', 'additional_special_tokens': ['<|im_start|>', '<|im_end|>']}, clean_up_tokenization_spaces=False),  added_tokens_decoder={\n",
       "\t151643: AddedToken(\"<|endoftext|>\", rstrip=False, lstrip=False, single_word=False, normalized=False, special=True),\n",
       "\t151644: AddedToken(\"<|im_start|>\", rstrip=False, lstrip=False, single_word=False, normalized=False, special=True),\n",
       "\t151645: AddedToken(\"<|im_end|>\", rstrip=False, lstrip=False, single_word=False, normalized=False, special=True),\n",
       "}"
      ]
     },
     "execution_count": 7,
     "metadata": {},
     "output_type": "execute_result"
    }
   ],
   "source": [
    "internlm_tokenizer"
   ]
  },
  {
   "cell_type": "code",
   "execution_count": 8,
   "id": "c23ca340-83ac-46b9-984b-484adf3bc17b",
   "metadata": {},
   "outputs": [
    {
     "data": {
      "text/plain": [
       "GenerationConfig {\n",
       "  \"bos_token_id\": 151643,\n",
       "  \"do_sample\": true,\n",
       "  \"eos_token_id\": [\n",
       "    151645,\n",
       "    151643\n",
       "  ],\n",
       "  \"pad_token_id\": 151643,\n",
       "  \"repetition_penalty\": 1.05,\n",
       "  \"temperature\": 0.7,\n",
       "  \"top_k\": 20,\n",
       "  \"top_p\": 0.8,\n",
       "  \"trust_remote_code\": true\n",
       "}"
      ]
     },
     "execution_count": 8,
     "metadata": {},
     "output_type": "execute_result"
    }
   ],
   "source": [
    "internlm_generation_config"
   ]
  },
  {
   "cell_type": "code",
   "execution_count": 37,
   "id": "724f7597-01fc-4358-9562-ef18a7d25800",
   "metadata": {},
   "outputs": [],
   "source": [
    "from prompt_utils import _build_prompt, _build_prompt_self"
   ]
  },
  {
   "cell_type": "code",
   "execution_count": 46,
   "id": "70a09b2e",
   "metadata": {},
   "outputs": [],
   "source": [
    "internlm_tokenizer.im_start_id = 151644\n",
    "internlm_tokenizer.im_end_id = 151645\n",
    "internlm_generation_config.max_window_size = 11000"
   ]
  },
  {
   "cell_type": "code",
   "execution_count": 53,
   "id": "617a2cb6",
   "metadata": {},
   "outputs": [],
   "source": [
    "history = [(\"Hello, how are you?\", \"Great! How can I help you today?\")]"
   ]
  },
  {
   "cell_type": "code",
   "execution_count": 56,
   "id": "69f25e44",
   "metadata": {},
   "outputs": [
    {
     "name": "stdout",
     "output_type": "stream",
     "text": [
      "[151644, 8948, 198, 2610, 525, 264, 10950, 17847, 13, 151645, 198, 151644, 872, 198, 9707, 11, 1246, 525, 498, 30, 151645, 198, 151644, 77091, 198, 21396, 0, 2585, 646, 358, 1492, 498, 3351, 30, 151645, 198, 151644, 872, 198, 15191, 525, 498, 30, 151645, 198, 151644, 77091, 198]\n"
     ]
    }
   ],
   "source": [
    "res1 = print(_build_prompt(internlm_generation_config, internlm_tokenizer, \"Who are you?\", history=history, system=\"You are a helpful assistant.\")[1])"
   ]
  },
  {
   "cell_type": "code",
   "execution_count": 57,
   "id": "85ee6a3f",
   "metadata": {},
   "outputs": [
    {
     "name": "stdout",
     "output_type": "stream",
     "text": [
      "[151644, 8948, 198, 2610, 525, 264, 10950, 17847, 13, 151645, 198, 151644, 872, 198, 9707, 11, 1246, 525, 498, 30, 151645, 198, 151644, 77091, 198, 21396, 0, 2585, 646, 358, 1492, 498, 3351, 30, 151645, 198, 151644, 872, 198, 15191, 525, 498, 30, 151645, 198, 151644, 77091, 198]\n"
     ]
    }
   ],
   "source": [
    "res2 = print(_build_prompt_self(internlm_generation_config, internlm_tokenizer, \"Who are you?\", history=history, system=\"You are a helpful assistant.\"))"
   ]
  },
  {
   "cell_type": "code",
   "execution_count": 60,
   "id": "5ea1d23f",
   "metadata": {},
   "outputs": [
    {
     "data": {
      "text/plain": [
       "True"
      ]
     },
     "execution_count": 60,
     "metadata": {},
     "output_type": "execute_result"
    }
   ],
   "source": [
    "np.equal(res1, res2)"
   ]
  },
  {
   "cell_type": "code",
   "execution_count": 61,
   "id": "c001b9f9",
   "metadata": {},
   "outputs": [],
   "source": [
    "start = \"<|im_start|>\"\n",
    "end = \"<|im_end|>\""
   ]
  },
  {
   "cell_type": "code",
   "execution_count": null,
   "id": "97e5955b",
   "metadata": {},
   "outputs": [],
   "source": []
  }
 ],
 "metadata": {
  "kernelspec": {
   "display_name": "Python 3 (ipykernel)",
   "language": "python",
   "name": "python3"
  },
  "language_info": {
   "codemirror_mode": {
    "name": "ipython",
    "version": 3
   },
   "file_extension": ".py",
   "mimetype": "text/x-python",
   "name": "python",
   "nbconvert_exporter": "python",
   "pygments_lexer": "ipython3",
   "version": "3.8.19"
  }
 },
 "nbformat": 4,
 "nbformat_minor": 5
}
